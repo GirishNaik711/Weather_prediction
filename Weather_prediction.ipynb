{
  "nbformat": 4,
  "nbformat_minor": 0,
  "metadata": {
    "colab": {
      "provenance": [],
      "authorship_tag": "ABX9TyPKJFAjUos08F9PH6FbP4ly",
      "include_colab_link": true
    },
    "kernelspec": {
      "name": "python3",
      "display_name": "Python 3"
    },
    "language_info": {
      "name": "python"
    }
  },
  "cells": [
    {
      "cell_type": "markdown",
      "metadata": {
        "id": "view-in-github",
        "colab_type": "text"
      },
      "source": [
        "<a href=\"https://colab.research.google.com/github/GirishNaik711/Weather_prediction/blob/main/Weather_prediction.ipynb\" target=\"_parent\"><img src=\"https://colab.research.google.com/assets/colab-badge.svg\" alt=\"Open In Colab\"/></a>"
      ]
    },
    {
      "cell_type": "markdown",
      "metadata": {
        "id": "ssOcn-nIOCcV"
      },
      "source": [
        "###Weather Model\n",
        "\n",
        "We will model a simple weather system and try to predict the temperature on each day given the following information.\n",
        "1. Cold days are encoded by a 0 and hot days are encoded by a 1.\n",
        "2. The first day in our sequence has an 80% chance of being cold.\n",
        "3. A cold day has a 30% chance of being followed by a hot day.\n",
        "4. A hot day has a 20% chance of being followed by a cold day.\n",
        "5. On each day the temperature is\n",
        " normally distributed with mean and standard deviation 0 and 5 on\n",
        " a cold day and mean and standard deviation 15 and 10 on a hot day.\n",
        "\n",
        "If you're unfamiliar with **standard deviation** it can be put simply as the range of expected values.\n",
        "\n",
        "In this example, on a hot day the average temperature is 15 and ranges from 5 to 25.\n",
        "\n",
        "To model this in TensorFlow we will do the following.\n"
      ]
    },
    {
      "cell_type": "code",
      "execution_count": null,
      "metadata": {
        "id": "NVJUU_Ufoyjn"
      },
      "outputs": [],
      "source": [
        "import tensorflow_probability as tfp\n",
        "import tensorflow as tf"
      ]
    },
    {
      "cell_type": "code",
      "source": [
        "tfd = tfp.distributions\n",
        "\n",
        "initial_distribution = tfd.Categorical(probs = [0.8, 0.2])\n",
        "transition_distribution = tfd.Categorical(probs = [ [0.3,0.7],[0.2,0.8] ])\n",
        "observation_distribution = tfd.Normal(loc = [0.,15.], scale = [5.,10.])"
      ],
      "metadata": {
        "id": "xdjeQQxPr1uD"
      },
      "execution_count": null,
      "outputs": []
    },
    {
      "cell_type": "markdown",
      "source": [
        "We've now created distribution variables to model our system and it's time to create the hidden markov model."
      ],
      "metadata": {
        "id": "0qhfXHsn43Gu"
      }
    },
    {
      "cell_type": "code",
      "source": [
        "hmm_model = tfd.HiddenMarkovModel(\n",
        "    initial_distribution = initial_distribution,\n",
        "    transition_distribution = transition_distribution,\n",
        "    observation_distribution = observation_distribution,\n",
        "    num_steps = 7\n",
        ")"
      ],
      "metadata": {
        "id": "hGKI26Tor8Sv"
      },
      "execution_count": null,
      "outputs": []
    },
    {
      "cell_type": "markdown",
      "source": [
        "The number of steps represents the number of days that we would like to predict information for. In this case we've chosen 7, an entire week.\n",
        "\n",
        "To get the expected temperatures on each day we can do the following."
      ],
      "metadata": {
        "id": "qiKS_sH048S8"
      }
    },
    {
      "cell_type": "code",
      "source": [
        "results = hmm_model.mean()"
      ],
      "metadata": {
        "id": "mDVQNQJVt8Cp"
      },
      "execution_count": null,
      "outputs": []
    },
    {
      "cell_type": "code",
      "source": [
        "with tf.compat.v1.Session() as sess:\n",
        "  print(results.numpy())"
      ],
      "metadata": {
        "colab": {
          "base_uri": "https://localhost:8080/"
        },
        "id": "-SASatfQuXsi",
        "outputId": "cf3d3696-7248-4ace-bee8-71635d406e52"
      },
      "execution_count": null,
      "outputs": [
        {
          "output_type": "stream",
          "name": "stdout",
          "text": [
            "[ 3.       10.799999 11.579999 11.658    11.6658   11.66658  11.666658]\n"
          ]
        }
      ]
    }
  ]
}